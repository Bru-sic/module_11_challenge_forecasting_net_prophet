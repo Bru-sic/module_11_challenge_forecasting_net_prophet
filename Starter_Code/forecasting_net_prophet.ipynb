{
 "cells": [
  {
   "cell_type": "code",
   "execution_count": null,
   "metadata": {
    "tags": []
   },
   "outputs": [],
   "source": [
    "using_colab = True   # Set True if running in Google Colab. Set to False if running in Jupyter Lab"
   ]
  },
  {
   "cell_type": "markdown",
   "metadata": {
    "id": "WTDMxG_NvqLl"
   },
   "source": [
    "# Forecasting Net Prophet\n",
    "\n",
    "You’re a growth analyst at [MercadoLibre](http://investor.mercadolibre.com/investor-relations). With over 200 million users, MercadoLibre is the most popular e-commerce site in Latin America. You've been tasked with analyzing the company's financial and user data in clever ways to make the company grow. So, you want to find out if the ability to predict search traffic can translate into the ability to successfully trade the stock.\n",
    "\n",
    "Instructions\n",
    "\n",
    "This section divides the instructions for this Challenge into four steps and an optional fifth step, as follows:\n",
    "\n",
    "* Step 1: Find unusual patterns in hourly Google search traffic\n",
    "\n",
    "* Step 2: Mine the search traffic data for seasonality\n",
    "\n",
    "* Step 3: Relate the search traffic to stock price patterns\n",
    "\n",
    "* Step 4: Create a time series model with Prophet\n",
    "\n",
    "* Step 5 (optional): Forecast revenue by using time series models\n",
    "\n",
    "The following subsections detail these steps.\n",
    "\n",
    "## Step 1: Find Unusual Patterns in Hourly Google Search Traffic\n",
    "\n",
    "The data science manager asks if the Google search traffic for the company links to any financial events at the company. Or, does the search traffic data just present random noise? To answer this question, pick out any unusual patterns in the Google search data for the company, and connect them to the corporate financial events.\n",
    "\n",
    "To do so, complete the following steps:\n",
    "\n",
    "1. Read the search data into a DataFrame, and then slice the data to just the month of May 2020. (During this month, MercadoLibre released its quarterly financial results.) Use hvPlot to visualize the results. Do any unusual patterns exist?\n",
    "\n",
    "2. Calculate the total search traffic for the month, and then compare the value to the monthly median across all months. Did the Google search traffic increase during the month that MercadoLibre released its financial results?\n",
    "\n",
    "## Step 2: Mine the Search Traffic Data for Seasonality\n",
    "\n",
    "Marketing realizes that they can use the hourly search data, too. If they can track and predict interest in the company and its platform for any time of day, they can focus their marketing efforts around the times that have the most traffic. This will get a greater return on investment (ROI) from their marketing budget.\n",
    "\n",
    "To that end, you want to mine the search traffic data for predictable seasonal patterns of interest in the company. To do so, complete the following steps:\n",
    "\n",
    "1. Group the hourly search data to plot the average traffic by the day of the week (for example, Monday vs. Friday).\n",
    "\n",
    "2. Using hvPlot, visualize this traffic as a heatmap, referencing the `index.hour` as the x-axis and the `index.dayofweek` as the y-axis. Does any day-of-week effect that you observe concentrate in just a few hours of that day?\n",
    "\n",
    "3. Group the search data by the week of the year. Does the search traffic tend to increase during the winter holiday period (weeks 40 through 52)?\n",
    "\n",
    "## Step 3: Relate the Search Traffic to Stock Price Patterns\n",
    "\n",
    "You mention your work on the search traffic data during a meeting with people in the finance group at the company. They want to know if any relationship between the search data and the company stock price exists, and they ask if you can investigate.\n",
    "\n",
    "To do so, complete the following steps:\n",
    "\n",
    "1. Read in and plot the stock price data. Concatenate the stock price data to the search data in a single DataFrame.\n",
    "\n",
    "2. Market events emerged during the year of 2020 that many companies found difficult. But, after the initial shock to global financial markets, new customers and revenue increased for e-commerce platforms. Slice the data to just the first half of 2020 (`2020-01` to `2020-06` in the DataFrame), and then use hvPlot to plot the data. Do both time series indicate a common trend that’s consistent with this narrative?\n",
    "\n",
    "3. Create a new column in the DataFrame named “Lagged Search Trends” that offsets, or shifts, the search traffic by one hour. Create two additional columns:\n",
    "\n",
    "    * “Stock Volatility”, which holds an exponentially weighted four-hour rolling average of the company’s stock volatility\n",
    "\n",
    "    * “Hourly Stock Return”, which holds the percent change of the company's stock price on an hourly basis\n",
    "\n",
    "4. Review the time series correlation, and then answer the following question: Does a predictable relationship exist between the lagged search traffic and the stock volatility or between the lagged search traffic and the stock price returns?\n",
    "\n",
    "## Step 4: Create a Time Series Model with Prophet\n",
    "\n",
    "Now, you need to produce a time series model that analyzes and forecasts patterns in the hourly search data. To do so, complete the following steps:\n",
    "\n",
    "1. Set up the Google search data for a Prophet forecasting model.\n",
    "\n",
    "2. After estimating the model, plot the forecast. How's the near-term forecast for the popularity of MercadoLibre?\n",
    "\n",
    "3. Plot the individual time series components of the model to answer the following questions:\n",
    "\n",
    "    * What time of day exhibits the greatest popularity?\n",
    "\n",
    "    * Which day of the week gets the most search traffic?\n",
    "\n",
    "    * What's the lowest point for search traffic in the calendar year?\n",
    "\n",
    "## Step 5 (Optional): Forecast Revenue by Using Time Series Models\n",
    "\n",
    "A few weeks after your initial analysis, the finance group follows up to find out if you can help them solve a different problem. Your fame as a growth analyst in the company continues to grow!\n",
    "\n",
    "Specifically, the finance group wants a forecast of the total sales for the next quarter. This will dramatically increase their ability to plan budgets and to help guide expectations for the company investors.\n",
    "\n",
    "To do so, complete the following steps:\n",
    "\n",
    "1. Read in the daily historical sales (that is, revenue) figures, and then apply a Prophet model to the data.\n",
    "\n",
    "2. Interpret the model output to identify any seasonal patterns in the company's revenue. For example, what are the peak revenue days? (Mondays? Fridays? Something else?)\n",
    "\n",
    "3. Produce a sales forecast for the finance group. Give them a number for the expected total sales in the next quarter. Include the best- and worst-case scenarios to help them make better plans.\n"
   ]
  },
  {
   "cell_type": "markdown",
   "metadata": {
    "id": "Ris9SHv9vqLm"
   },
   "source": [
    "## Install and import the required libraries and dependencies"
   ]
  },
  {
   "cell_type": "markdown",
   "metadata": {
    "id": "Mtv8BEcsvqLo"
   },
   "source": [
    "## Step 1: Find Unusual Patterns in Hourly Google Search Traffic\n",
    "\n",
    "The data science manager asks if the Google search traffic for the company links to any financial events at the company. Or, does the search traffic data just present random noise? To answer this question, pick out any unusual patterns in the Google search data for the company, and connect them to the corporate financial events.\n",
    "\n",
    "To do so, complete the following steps:\n",
    "\n",
    "1. Read the search data into a DataFrame, and then slice the data to just the month of May 2020. (During this month, MercadoLibre released its quarterly financial results.) Use hvPlot to visualize the results. Do any unusual patterns exist?\n",
    "\n",
    "2. Calculate the total search traffic for the month, and then compare the value to the monthly median across all months. Did the Google search traffic increase during the month that MercadoLibre released its financial results?\n"
   ]
  },
  {
   "cell_type": "code",
   "execution_count": null,
   "metadata": {
    "colab": {
     "base_uri": "https://localhost:8080/"
    },
    "id": "fN5jchzFvqLn",
    "outputId": "66f131cf-552a-4cf1-c775-c8d6c6d9df31",
    "tags": []
   },
   "outputs": [],
   "source": [
    "# Install the required libraries\n",
    "!pip install prophet\n",
    "!pip install hvplot\n",
    "!pip install holoviews\n",
    "\n",
    "# pscript needed for custom hvplot axis formatter\n",
    "!pip install pscript\n",
    "!pip install jupyter_bokeh"
   ]
  },
  {
   "cell_type": "code",
   "execution_count": null,
   "metadata": {
    "colab": {
     "base_uri": "https://localhost:8080/",
     "height": 17
    },
    "id": "fXhOoTgOvqLo",
    "outputId": "46af47ff-7f5d-43eb-dea2-d5128f4c40e6",
    "tags": []
   },
   "outputs": [],
   "source": [
    "# Import the required libraries and dependencies\n",
    "if not using_colab:\n",
    "    from pathlib import Path\n",
    "    \n",
    "import numpy as np\n",
    "import pandas as pd\n",
    "import holoviews as hv\n",
    "from prophet import Prophet\n",
    "import hvplot.pandas\n",
    "import datetime as dt\n",
    "from bokeh.models import DatetimeTickFormatter, NumeralTickFormatter # Used for formatting the chart axes\n",
    "\n",
    "%matplotlib inline"
   ]
  },
  {
   "cell_type": "markdown",
   "metadata": {
    "id": "Oh3G55xMvqLo"
   },
   "source": [
    "#### Step 1: Read the search data into a DataFrame, and then slice the data to just the month of May 2020. (During this month, MercadoLibre released its quarterly financial results.) Use hvPlot to visualize the results. Do any unusual patterns exist?"
   ]
  },
  {
   "cell_type": "code",
   "execution_count": null,
   "metadata": {
    "colab": {
     "base_uri": "https://localhost:8080/",
     "height": 451
    },
    "id": "QHxm9sJdvqLo",
    "outputId": "f064db55-6a5c-42cc-ce65-82282fbc99a7",
    "tags": []
   },
   "outputs": [],
   "source": [
    "# Upload the \"google_hourly_search_trends.csv\" file into Colab, then store in a Pandas DataFrame\n",
    "# Set the \"Date\" column as the Datetime Index.\n",
    "\n",
    "mercado_trends_path_filename = \"google_hourly_search_trends.csv\"\n",
    "if using_colab:\n",
    "    from google.colab import files\n",
    "    uploaded = files.upload()\n",
    "\n",
    "    df_mercado_trends = pd.read_csv(mercado_trends_path_filename) # Read the specified file into the dataframe\n",
    "else:\n",
    "    mercado_trends_path =  Path(\"./Resources/\" + mercado_trends_path_filename)\n",
    "    df_mercado_trends =  pd.read_csv(mercado_trends_path) # Read the specified file into the dataframe\n",
    "\n",
    "# Review the first and last five rows of the DataFrame\n",
    "display(\"Head\",df_mercado_trends.head()) # Show the first 5 rows\n",
    "display(\"Tail\",df_mercado_trends.tail()) # Show the last 5 rows"
   ]
  },
  {
   "cell_type": "code",
   "execution_count": null,
   "metadata": {
    "colab": {
     "base_uri": "https://localhost:8080/",
     "height": 458
    },
    "id": "VDfLg8ePyYKt",
    "outputId": "55d4eae6-8521-4859-c6d7-85fe0530a4a2",
    "tags": []
   },
   "outputs": [],
   "source": [
    "# Convert Date strings into datetime objects and set the datetime as the index\n",
    "df_mercado_trends = df_mercado_trends.set_index(pd.to_datetime(df_mercado_trends[\"Date\"], infer_datetime_format=True))\n",
    "\n",
    "df_mercado_trends = df_mercado_trends.drop(columns=[\"Date\"]) # Drop the original Date column.... (\"columns=labels\" is equivalent to \"labels, axis=1\").\n",
    " \n",
    "# Review the first and last five rows of the DataFrame\n",
    "display(\"Head\",df_mercado_trends.head()) # Show the first 5 rows\n",
    "display(\"Tail\",df_mercado_trends.tail()) # Show the last 5 rows"
   ]
  },
  {
   "cell_type": "code",
   "execution_count": null,
   "metadata": {
    "colab": {
     "base_uri": "https://localhost:8080/"
    },
    "id": "y6jMz0huvqLo",
    "outputId": "09ebc31c-75a4-40f6-a3ad-be3a40dd0ba1",
    "tags": []
   },
   "outputs": [],
   "source": [
    "# Review the data types of the DataFrame using the info function\n",
    "df_mercado_trends.info() # Show information about the dataframe\n"
   ]
  },
  {
   "cell_type": "code",
   "execution_count": null,
   "metadata": {
    "colab": {
     "base_uri": "https://localhost:8080/",
     "height": 352
    },
    "id": "SE98KJlavqLo",
    "outputId": "1290cb15-6894-4ff3-a8ec-a4146921e59a",
    "tags": []
   },
   "outputs": [],
   "source": [
    "# Holoviews extension to render hvPlots in Colab\n",
    "hv.extension('bokeh')\n",
    "\n",
    "# Slice the DataFrame to just the month of May 2020\n",
    "df_may_2020 = df_mercado_trends.loc[\"2020-05\"]  # Assign the slice of May 2020\n",
    "\n",
    "\n",
    "# Use hvPlot to visualize the data for May 2020\n",
    "# Implementation notes: decided to group by day, as plotting just on the raw data was not showing any significant trends during the month.\n",
    "fig1_label = \"Figure 1 - Daily Google search trends for MercadoLibre - May 2020\"  # Set the title\n",
    "fig1 = df_may_2020.groupby(df_may_2020.index.date).sum().hvplot( # Plot the search trends with a descriptive label\n",
    "    label=fig1_label,                                            # Set the title\n",
    "    xlabel=\"Date\",                                               # Label the x axis\n",
    "    ylabel=\"Search Trends\",                                      # Label the y axis\n",
    "    grid=True,                                                   # Show the grid\n",
    "    ).opts(                                                      # Format the x and y axes\n",
    "        xformatter=DatetimeTickFormatter(days=\"%d/%m/%Y\"),       # Show date in dd/mm/yyyy format\n",
    "        yformatter=NumeralTickFormatter(format=\"0,0\"),           # Add thousands separator to the y axis\n",
    "        )\n",
    "fig1\n",
    "# xformatter & yformatter code snippets from https://docs.bokeh.org/en/latest/docs/reference/models/formatters.html#bokeh.models.DatetimeTickFormatter"
   ]
  },
  {
   "cell_type": "markdown",
   "metadata": {
    "id": "xqNsqBvdvqLo"
   },
   "source": [
    "#### Step 2: Calculate the total search traffic for the month, and then compare the value to the monthly median across all months. Did the Google search traffic increase during the month that MercadoLibre released its financial results?"
   ]
  },
  {
   "cell_type": "code",
   "execution_count": null,
   "metadata": {
    "colab": {
     "base_uri": "https://localhost:8080/"
    },
    "id": "uFFlwOobvqLo",
    "outputId": "7f72fb56-9b4b-4f63-ab88-b8a291d274a8",
    "tags": []
   },
   "outputs": [],
   "source": [
    "# Calculate the sum of the total search traffic for May 2020\n",
    "traffic_may_2020 = df_may_2020[\"Search Trends\"].sum() # Sum the total traffic for May 2020\n",
    "\n",
    "# View the traffic_may_2020 value\n",
    "print(f\"Total search traffic for May 2020 was {traffic_may_2020:0,.0f}\") # Display the total traffic for May 2020 with formatting"
   ]
  },
  {
   "cell_type": "code",
   "execution_count": null,
   "metadata": {
    "colab": {
     "base_uri": "https://localhost:8080/"
    },
    "id": "b0Quyus0vqLo",
    "outputId": "d370cbf0-d76a-46bb-c186-3580e12071ee",
    "tags": []
   },
   "outputs": [],
   "source": [
    "# Calcluate the monthly median search traffic across all months\n",
    "# Group the DataFrame by index year and then index month, chain the sum and then the median functions\n",
    "median_monthly_traffic = df_mercado_trends[\"Search Trends\"].groupby([df_mercado_trends.index.year, df_mercado_trends.index.month ]).sum().median() # Find the median across all months\n",
    "\n",
    "# View the median_monthly_traffic value\n",
    "print(f\"Median search traffic across all months was {median_monthly_traffic:0,.0f}\") # Display the median traffic with formatting"
   ]
  },
  {
   "cell_type": "code",
   "execution_count": null,
   "metadata": {
    "colab": {
     "base_uri": "https://localhost:8080/"
    },
    "id": "-zHQppWMvqLp",
    "outputId": "35751430-a27d-4878-c9e4-149326247f88",
    "tags": []
   },
   "outputs": [],
   "source": [
    "# Compare the seach traffic for the month of May 2020 to the overall monthly median value\n",
    "may2020_vs_all_months_delta = traffic_may_2020 - median_monthly_traffic                           # Work out the delta\n",
    "may2020_vs_all_months_pct = round(may2020_vs_all_months_delta / median_monthly_traffic * 100, 2)  # Work out the delta %\n",
    "\n",
    "# Present the findings\n",
    "print(f\"There was a change of {may2020_vs_all_months_pct:-0,.2f}% (Δ={may2020_vs_all_months_delta:-0,.0f}) in volume during May 2020 (∑={traffic_may_2020:0,.0f}) when compared to the median of all months (∑={median_monthly_traffic:0,.0f})\")"
   ]
  },
  {
   "cell_type": "markdown",
   "metadata": {
    "id": "KUq-gjTOvqLp"
   },
   "source": [
    "##### Answer the following question:"
   ]
  },
  {
   "cell_type": "markdown",
   "metadata": {
    "id": "PMkY0IxuvqLp"
   },
   "source": [
    "**Question:** Did the Google search traffic increase during the month that MercadoLibre released its financial results?\n",
    "\n",
    "**Answer:** Yes, there appears to have been an increase of 8.55% (Δ=3,008) in volume during May 2020 (∑=38,181) when compared to the median of all months (∑=35,172)"
   ]
  },
  {
   "cell_type": "markdown",
   "metadata": {
    "id": "ogmb4pk6vqLp"
   },
   "source": [
    "## Step 2: Mine the Search Traffic Data for Seasonality\n",
    "\n",
    "Marketing realizes that they can use the hourly search data, too. If they can track and predict interest in the company and its platform for any time of day, they can focus their marketing efforts around the times that have the most traffic. This will get a greater return on investment (ROI) from their marketing budget.\n",
    "\n",
    "To that end, you want to mine the search traffic data for predictable seasonal patterns of interest in the company. To do so, complete the following steps:\n",
    "\n",
    "1. Group the hourly search data to plot the average traffic by the day of the week (for example, Monday vs. Friday).\n",
    "\n",
    "2. Using hvPlot, visualize this traffic as a heatmap, referencing the `index.hour` as the x-axis and the `index.dayofweek` as the y-axis. Does any day-of-week effect that you observe concentrate in just a few hours of that day?\n",
    "\n",
    "3. Group the search data by the week of the year. Does the search traffic tend to increase during the winter holiday period (weeks 40 through 52)?\n"
   ]
  },
  {
   "cell_type": "markdown",
   "metadata": {
    "id": "Yya8Gn8hvqLp"
   },
   "source": [
    "#### Step 1: Group the hourly search data to plot the average traffic by the day of the week (for example, Monday vs. Friday)."
   ]
  },
  {
   "cell_type": "code",
   "execution_count": null,
   "metadata": {
    "id": "T9kuba_65dPu",
    "tags": []
   },
   "outputs": [],
   "source": [
    "# Create tuples to substitute plot axis labels. Code reference as per https://hvplot.holoviz.org/user_guide/Customization.html\n",
    "\n",
    "# Create a list of tuples to replace the day of week number with the day of week name.\n",
    "ticks_day_of_week_labels = [(0,\"Monday\"), (1,\"Tuesday\"), (2,\"Wednesday\"), (3,\"Thursday\"), (4,\"Friday\"), (5,\"Saturday\"), (6,\"Sunday\")]\n",
    "\n",
    "# Create a list of tuples to replace the hour labels\n",
    "ticks_time_of_day_labels = [(0,\"Midnight\"), (4,\"4am\"), (8,\"8am\"), (12,\"Midday\"), (16,\"4pm\"), (20,\"8pm\"), (23,\"11pm\")]"
   ]
  },
  {
   "cell_type": "code",
   "execution_count": null,
   "metadata": {
    "colab": {
     "base_uri": "https://localhost:8080/",
     "height": 510
    },
    "id": "LKxVxUnnvqLp",
    "outputId": "77838a68-14ab-4bdd-d9d3-7078676c3161",
    "tags": []
   },
   "outputs": [],
   "source": [
    "# Holoviews extension to render hvPlots in Colab\n",
    "hv.extension('bokeh')\n",
    "\n",
    "# Group the hourly search data to plot (use hvPlot) the average traffic by the day of week\n",
    "grouping = df_mercado_trends.groupby(by=[df_mercado_trends.index.dayofweek])[\"Search Trends\"].mean()    # Define a grouping level based on week day (e.g., Mon = 0, Tues = 1 etc)\n",
    "\n",
    "display(\"Day of Week Trend Data\")\n",
    "display(grouping) # show the grouping results\n",
    "\n",
    "fig2_label = \"Figure 2 - Average search traffic by day of week\" # Set the content for the plot's title\n",
    "\n",
    "fig2 = grouping.hvplot(    # Plot the search trends by day of week\n",
    "    x=\"index.day_name\",                                       # Set the x axis data source\n",
    "    y=\"Search Trends\",                               # Set the y axis data source\n",
    "    label=fig2_label,                                # Set the title\n",
    "    xlabel=\"Day of Week\",                            # Label the x axis\n",
    "    ylabel=\"Search Trends (avg)\",                    # Label the y axis\n",
    "    grid=True,                                       # Show the grid\n",
    "    xticks = ticks_day_of_week_labels,               # Remap the numeric dayofweek labels to the day name of the week\n",
    "    yformatter=NumeralTickFormatter(format=\"0,0\")    # Add thousands separator to the y axis\n",
    ")\n",
    "display(fig2) # Show the plot"
   ]
  },
  {
   "cell_type": "markdown",
   "metadata": {
    "id": "oYZlg-g-vqLp"
   },
   "source": [
    "#### Step 2: Using hvPlot, visualize this traffic as a heatmap, referencing the `index.hour` as the x-axis and the `index.dayofweek` as the y-axis. Does any day-of-week effect that you observe concentrate in just a few hours of that day?"
   ]
  },
  {
   "cell_type": "code",
   "execution_count": null,
   "metadata": {
    "colab": {
     "base_uri": "https://localhost:8080/",
     "height": 1000
    },
    "id": "oEOw0M2pvqLp",
    "outputId": "bf1c9efb-8896-4e47-8c54-66c3bbb9aaee",
    "tags": []
   },
   "outputs": [],
   "source": [
    "# Holoviews extension to render hvPlots in Colab\n",
    "hv.extension('bokeh')\n",
    "\n",
    "# Use hvPlot to visualize the hour of the day and day of week search traffic as a heatmap.\n",
    "fig3_label = \"Figure 3 - Search traffic heat map - hour of day by day of week\"  # Set the content for the plot's title\n",
    "fig3 = df_mercado_trends.hvplot.heatmap(label=fig3_label,                       # Set the label\n",
    "                                        x=\"index.hour\",                         # x axis data source (as instructed)\n",
    "                                        y=\"index.dayofweek\",                    # y axis data source (as instructed)\n",
    "                                        C=\"Search Trends\",                      # data for heat map\n",
    "                                        cmap=\"reds\",                            # use the red colour scheme for good contrast\n",
    "                                        xlabel=\"Hour of Day\",                   # Label the x axis\n",
    "                                        ylabel=\"Day of Week\",                   # Label the y axis\n",
    "                                        yticks=ticks_day_of_week_labels,        # Remap the dayofweek number (eg 0, 1) labels to the day name of the week (eg Monday, Tuesday)\n",
    "                                        xticks=ticks_time_of_day_labels,        # Remap the hour number (eg 0, 1..23) to a friendlier format\n",
    "                                        ).aggregate(function=np.mean)"
   ]
  },
  {
   "cell_type": "code",
   "execution_count": null,
   "metadata": {
    "colab": {
     "base_uri": "https://localhost:8080/",
     "height": 352
    },
    "id": "YkJIvvq3zeQd",
    "outputId": "867b35f7-b605-4126-8ce4-0ba16b275a9e",
    "tags": []
   },
   "outputs": [],
   "source": [
    "hv.extension('bokeh')\n",
    "display(fig3) # Display figure 3, the heatmap"
   ]
  },
  {
   "cell_type": "markdown",
   "metadata": {
    "id": "o9b8wV1kvqLp"
   },
   "source": [
    "##### Answer the following question:"
   ]
  },
  {
   "cell_type": "markdown",
   "metadata": {
    "id": "hAyTWi8XvqLp"
   },
   "source": [
    "**Question:** Does any day-of-week effect that you observe concentrate in just a few hours of that day?\n",
    "\n",
    "**Answer:** As can been seen in Figure 3, there is hardly any activity between 6am and 11am. There is a gradual increase in activity from midday onwards to late evening, at which point the highest concentration of activity can be observed between 10pm and 2am. Activity declines fairly rapidly from 3am onwards."
   ]
  },
  {
   "cell_type": "markdown",
   "metadata": {
    "id": "kn7DQGLnvqLp"
   },
   "source": [
    "#### Step 3: Group the search data by the week of the year. Does the search traffic tend to increase during the winter holiday period (weeks 40 through 52)?"
   ]
  },
  {
   "cell_type": "code",
   "execution_count": null,
   "metadata": {
    "colab": {
     "base_uri": "https://localhost:8080/",
     "height": 352
    },
    "id": "L3F7KzXUvqLp",
    "outputId": "1a0a2378-ba3d-4a0a-d74a-efa34f896db8",
    "tags": []
   },
   "outputs": [],
   "source": [
    "# Holoviews extension to render hvPlots in Colab\n",
    "hv.extension('bokeh')\n",
    "\n",
    "# Group the hourly search data to plot (use hvPlot) the average traffic by the week of the year\n",
    "fig4_grouping = [ pd.Index(df_mercado_trends.index.isocalendar().week) ]     # Group by week of the year using pd.Int64Index(idx.isocalendar().week) to overcome # FutureWarning: weekofyear and week have have been deprecated warning\n",
    "\n",
    "fig4_label = \"Figure 4 - Total search traffic by week of year\" # Set the content for the plot's title\n",
    "fig4 = df_mercado_trends.groupby( by = fig4_grouping ).sum().hvplot(      # Plot the search trends by day of week\n",
    "     label=fig4_label,                                # Set the title\n",
    "     xlabel=\"Week of Year\",                           # Label the x axis\n",
    "     ylabel=\"Search Trends (total)\",                  # Label the y axis\n",
    "     grid=True,                                       # Show the grid\n",
    "    yformatter=NumeralTickFormatter(format=\"0,0\")     # Add thousands separator to the y axis\n",
    ")\n",
    "\n",
    "display(fig4) # show the plot"
   ]
  },
  {
   "cell_type": "markdown",
   "metadata": {
    "id": "3fV2BktUvqLp"
   },
   "source": [
    "##### Answer the following question:"
   ]
  },
  {
   "cell_type": "markdown",
   "metadata": {
    "id": "0cuSy-KrvqLp"
   },
   "source": [
    "**Question:** Does the search traffic tend to increase during the winter holiday period (weeks 40 through 52)?\n",
    "\n",
    "**Answer:** Mercadolibre's search traffic is at its highest between weeks 21 and weeks 36, coinciding with the northern hemisphere's summer. From week 38 there is a significant drop in total volume. Therefore the search traffic tends to *DECREASE* during the (northern hemisphere's) winter holiday period (weeks 40 through 52)."
   ]
  },
  {
   "cell_type": "markdown",
   "metadata": {
    "id": "pnHDFwHYvqLp"
   },
   "source": [
    "## Step 3: Relate the Search Traffic to Stock Price Patterns\n",
    "\n",
    "You mention your work on the search traffic data during a meeting with people in the finance group at the company. They want to know if any relationship between the search data and the company stock price exists, and they ask if you can investigate.\n",
    "\n",
    "To do so, complete the following steps:\n",
    "\n",
    "1. Read in and plot the stock price data. Concatenate the stock price data to the search data in a single DataFrame.\n",
    "\n",
    "2. Market events emerged during the year of 2020 that many companies found difficult. But, after the initial shock to global financial markets, new customers and revenue increased for e-commerce platforms. Slice the data to just the first half of 2020 (`2020-01` to `2020-06` in the DataFrame), and then use hvPlot to plot the data. Do both time series indicate a common trend that’s consistent with this narrative?\n",
    "\n",
    "3. Create a new column in the DataFrame named “Lagged Search Trends” that offsets, or shifts, the search traffic by one hour. Create two additional columns:\n",
    "\n",
    "    * “Stock Volatility”, which holds an exponentially weighted four-hour rolling average of the company’s stock volatility\n",
    "\n",
    "    * “Hourly Stock Return”, which holds the percent change of the company's stock price on an hourly basis\n",
    "\n",
    "4. Review the time series correlation, and then answer the following question: Does a predictable relationship exist between the lagged search traffic and the stock volatility or between the lagged search traffic and the stock price returns?\n"
   ]
  },
  {
   "cell_type": "markdown",
   "metadata": {
    "id": "MfQeqqCXvqLp"
   },
   "source": [
    "#### Step 1: Read in and plot the stock price data. Concatenate the stock price data to the search data in a single DataFrame."
   ]
  },
  {
   "cell_type": "code",
   "execution_count": null,
   "metadata": {
    "colab": {
     "base_uri": "https://localhost:8080/",
     "height": 37
    },
    "id": "fr3qiFCEvqLp",
    "outputId": "dc3962d3-9a4b-4860-96f8-4ba9612ba4e4",
    "tags": []
   },
   "outputs": [],
   "source": [
    "# Upload the \"mercado_stock_price.csv\" file into Colab, then store in a Pandas DataFrame\n",
    "# Set the \"date\" column as the Datetime Index.\n",
    "\n",
    "mercado_stock_path_filename = \"mercado_stock_price.csv\"    # set the filename to load\n",
    "if using_colab:                                            # If in the Colab environment...\n",
    "    from google.colab import files                         #     import colab library\n",
    "    uploaded = files.upload()                              #     upload the file via colab\n",
    "\n",
    "    df_mercado_stock =  pd.read_csv(mercado_stock_path_filename) # Read the specified file into the dataframe\n",
    "else:\n",
    "    mercado_stock_path = Path(\"./Resources/\" + mercado_stock_path_filename )     # Get the path in the OS's format\n",
    "    df_mercado_stock = pd.read_csv(mercado_stock_path) # Read the specified file into the dataframe\n",
    "\n",
    "df_mercado_stock = df_mercado_stock.set_index(pd.to_datetime(df_mercado_stock[\"date\"], infer_datetime_format=True) )\n",
    "df_mercado_stock = df_mercado_stock.drop(columns=[\"date\"]) # Drop the original Date column.... (\"columns=labels\" is equivalent to \"labels, axis=1\").\n",
    "\n",
    "# Review the first and last five rows of the DataFrame\n",
    "display(\"Head\", df_mercado_stock.head()) # Show the first 5 rows\n",
    "display(\"Tail\", df_mercado_stock.tail()) # Show the last 5 rows"
   ]
  },
  {
   "cell_type": "code",
   "execution_count": null,
   "metadata": {
    "colab": {
     "base_uri": "https://localhost:8080/",
     "height": 352
    },
    "id": "UoNGKoAnvqLp",
    "outputId": "4c9a01ac-db4c-4d3c-fcba-a4b2fc925f58",
    "tags": []
   },
   "outputs": [],
   "source": [
    "# Holoviews extension to render hvPlots in Colab\n",
    "hv.extension('bokeh')\n",
    "\n",
    "# Use hvPlot to visualize the closing price of the df_mercado_stock DataFrame\n",
    "fig5_label = \"Figure 5 - Mercadolibre, Inc. (MELI) Closing Stock Price\" # Set the content for the plot's title\n",
    "\n",
    "fig5 = df_mercado_stock.hvplot(                      # Plot the graph\n",
    "    label=fig5_label,                                # Set the title\n",
    "    xlabel=\"Date\",                                   # Label the x axis\n",
    "    ylabel=\"Closing Price (USD)\",                    # Label the y axis\n",
    "    grid=True,                                       # Show the grid\n",
    "    yformatter=NumeralTickFormatter(format=\"0,0\")    # Add thousands separator to the y axis\n",
    ")\n",
    "display(fig5) # Show the plot"
   ]
  },
  {
   "cell_type": "code",
   "execution_count": null,
   "metadata": {
    "colab": {
     "base_uri": "https://localhost:8080/",
     "height": 254
    },
    "id": "ELDeQkFJvqLq",
    "outputId": "e5f589d1-c128-4511-82a0-824529fbf5dd",
    "tags": []
   },
   "outputs": [],
   "source": [
    "# Concatenate the df_mercado_stock DataFrame with the df_mercado_trends DataFrame\n",
    "# Concatenate the DataFrame by columns (axis=1), and drop and rows with only one column of data\n",
    "mercado_stock_trends_df = pd.concat([df_mercado_stock, df_mercado_trends], axis = 1).dropna()  # Join the two dataframes by column, then drop the redundant date index\n",
    "\n",
    "\n",
    "# View the first and last five rows of the DataFrame\n",
    "display(\"Head\", mercado_stock_trends_df.head())\n",
    "display(\"Tail\", mercado_stock_trends_df.tail())"
   ]
  },
  {
   "cell_type": "markdown",
   "metadata": {
    "id": "ydoNUZt2vqLq"
   },
   "source": [
    "#### Step 2: Market events emerged during the year of 2020 that many companies found difficult. But, after the initial shock to global financial markets, new customers and revenue increased for e-commerce platforms. Slice the data to just the first half of 2020 (`2020-01` to `2020-06` in the DataFrame), and then use hvPlot to plot the data. Do both time series indicate a common trend that’s consistent with this narrative?"
   ]
  },
  {
   "cell_type": "code",
   "execution_count": null,
   "metadata": {
    "id": "-_UbYSp8vqLq",
    "tags": []
   },
   "outputs": [],
   "source": [
    "# For the combined dataframe, slice to just the first half of 2020 (2020-01 through 2020-06)\n",
    "first_half_2020 = mercado_stock_trends_df.loc['2020-01' : '2020-06'] # Create the slice from the desired time period\n",
    "\n",
    "# View the first and last five rows of first_half_2020 DataFrame\n",
    "display(\"Head\", first_half_2020.head())\n",
    "display(\"Tail\", first_half_2020.tail())"
   ]
  },
  {
   "cell_type": "code",
   "execution_count": null,
   "metadata": {
    "tags": []
   },
   "outputs": [],
   "source": [
    "# Since the stock data has hourly closing prices, aggregate the stock and trend information by day to have a clearer view.\n",
    "first_half_2020 = first_half_2020.groupby(first_half_2020.index.date).agg({'close':'mean', 'Search Trends':'sum'}).copy() # Average the Close and sum the Search trends by day\n",
    "\n",
    "# View the first and last five rows of first_half_2020 DataFrame\n",
    "display(\"Head\", first_half_2020.head())\n",
    "display(\"Tail\", first_half_2020.tail())"
   ]
  },
  {
   "cell_type": "code",
   "execution_count": null,
   "metadata": {
    "tags": []
   },
   "outputs": [],
   "source": [
    "# Holoviews extension to render hvPlots in Colab\n",
    "hv.extension('bokeh')\n",
    "\n",
    "# Use hvPlot to visualize the close and Search Trends data\n",
    "# Plot each column on a separate axes using the following syntax\n",
    "# `hvplot(shared_axes=False, subplots=True).cols(1)`\n",
    "\n",
    "# Implementation notes. Have used separate plots to start with so that the title and Y axis labels can be specified for a more informative plot\n",
    "# Set separate titles for each plot's\n",
    "fig6_stock_label = \"Figure 6a - Mercadolibre Closing Stock Price\" \n",
    "fig6_trend_label = \"Figure 6b - Mercadolibre Search Trends\"\n",
    "\n",
    "# Create the Stock plot\n",
    "fig6a = first_half_2020.hvplot(                      # Plot the graph\n",
    "    x=\"index\",                                       # Use the index's date  as the X axis\n",
    "    y=\"close\",                                       # Use the average daily closing price column as the Y axis\n",
    "    shared_axes=False,                               # Dont share the axes\n",
    "    subplots=True,                                   # Allow subplots\n",
    "    label=fig6_stock_label,                          # Set the title    \n",
    "    xlabel=\"Date\",                                   # Label the x axis\n",
    "    ylabel=\"Closing Price (USD)\",                    # Label the y axis\n",
    "    grid=True,                                       # Show the grid\n",
    "    yformatter=NumeralTickFormatter(format=\"0,0\")    # Add thousands separator to the y axis\n",
    ")\n",
    "\n",
    "# Create the Search Trend plot\n",
    "fig6b = first_half_2020.hvplot(                      # Plot the graph\n",
    "    x=\"index\",                                       # Use the index's date  as the X axis\n",
    "    y=\"Search Trends\",                               # Use the Search Trends column as the Y axis\n",
    "    shared_axes=False,                               # Dont share the axes\n",
    "    subplots=True,                                   # Allow subplots\n",
    "    label=fig6_trend_label,                          # Set the title    \n",
    "    xlabel=\"Date\",                                   # Label the x axis\n",
    "    ylabel=\"Daily Search Trends\",                    # Label the y axis\n",
    "    grid=True,                                       # Show the grid\n",
    "    yformatter=NumeralTickFormatter(format=\"0,0\")    # Add thousands separator to the y axis\n",
    ")\n",
    "\n",
    "display( (fig6a+fig6b).cols(1) ) # Display the 2 plots in 1 bokeh panel on separate rows"
   ]
  },
  {
   "cell_type": "markdown",
   "metadata": {
    "id": "Z3159G_4vqLq"
   },
   "source": [
    "##### Answer the following question:"
   ]
  },
  {
   "cell_type": "markdown",
   "metadata": {
    "id": "LVZD4lPFvqLq"
   },
   "source": [
    "**Question:** Do both time series indicate a common trend that’s consistent with this narrative?\n",
    "\n",
    "**Answer:** The stock price dropped steadily by an eventual 50% within the period from late February to early April 2020, during which time search trends initially bucked the trend. Then came a sudden drop in search trends which fluctuated at close to low points for another month, during which time the share price gradually increased. A dramatic spike in searches in May 2020 coincided with an almost 20% jump in share price. After the dramatic spike search trends dropped by 25% approximately however the share price continued to increase. The trend appears to be consistent with the narrative in that business returned after the initial market shock."
   ]
  },
  {
   "cell_type": "markdown",
   "metadata": {
    "id": "ugQ6bylVvqLq"
   },
   "source": [
    "#### Step 3: Create a new column in the DataFrame named “Lagged Search Trends” that offsets, or shifts, the search traffic by one hour. Create two additional columns:\n",
    "\n",
    "* “Stock Volatility”, which holds an exponentially weighted four-hour rolling average of the company’s stock volatility\n",
    "\n",
    "* “Hourly Stock Return”, which holds the percent change of the company's stock price on an hourly basis\n"
   ]
  },
  {
   "cell_type": "code",
   "execution_count": null,
   "metadata": {
    "id": "dnGrNJq8vqLq",
    "tags": []
   },
   "outputs": [],
   "source": [
    "# Create a new column in the mercado_stock_trends_df DataFrame called Lagged Search Trends\n",
    "# This column should shift the Search Trends information by one hour\n",
    "mercado_stock_trends_df[\"Lagged Search Trends\"] = mercado_stock_trends_df[\"Search Trends\"].shift(1)  # Add the new Lagged column based on the original Search Trends shifted down by 1 row\n",
    "mercado_stock_trends_df"
   ]
  },
  {
   "cell_type": "code",
   "execution_count": null,
   "metadata": {
    "id": "keI-ieDJvqLq",
    "tags": []
   },
   "outputs": [],
   "source": [
    "# Create a new column in the mercado_stock_trends_df DataFrame called Stock Volatility\n",
    "# This column should calculate the standard deviation of the closing stock price return data over a 4 period rolling window\n",
    "mercado_stock_trends_df[\"Stock Volatility\"] = mercado_stock_trends_df[\"close\"].rolling( window=4 ).std() # Add the new Volatility column based on std over a 4 hr period\n",
    "mercado_stock_trends_df.head() # show the data frame"
   ]
  },
  {
   "cell_type": "code",
   "execution_count": null,
   "metadata": {
    "id": "03JNmWgFvqLr",
    "tags": []
   },
   "outputs": [],
   "source": [
    "# Holoviews extension to render hvPlots in Colab\n",
    "hv.extension('bokeh')\n",
    "\n",
    "# Use hvPlot to visualize the stock volatility\n",
    "fig7_label = \"Figure 7 - Mercadolibre Stock Price Rolling 4 hr Volatility\"  # Set the plot's title\n",
    "\n",
    "# Create the Stock plot\n",
    "fig7 = mercado_stock_trends_df[\"Stock Volatility\"].hvplot(    # Plot the graph\n",
    "    label=fig7_label,                                         # Set the title    \n",
    "    xlabel=\"Date\",                                            # Label the x axis\n",
    "    ylabel=\"Volatility (std)\",                                # Label the y axis\n",
    "    grid=True,                                                # Show the grid\n",
    "    yformatter=NumeralTickFormatter(format=\"0,0\")             # Add thousands separator to the y axis\n",
    ")\n",
    "\n",
    "display(fig7) # Show the plot"
   ]
  },
  {
   "cell_type": "markdown",
   "metadata": {
    "id": "Klm9wFaTvqLr"
   },
   "source": [
    "**Solution Note:** Note how volatility spiked, and tended to stay high, during the first half of 2020. This is a common characteristic of volatility in stock returns worldwide: high volatility days tend to be followed by yet more high volatility days. When it rains, it pours."
   ]
  },
  {
   "cell_type": "code",
   "execution_count": null,
   "metadata": {
    "id": "PK_WWmJWvqLr",
    "tags": []
   },
   "outputs": [],
   "source": [
    "# Create a new column in the mercado_stock_trends_df DataFrame called Hourly Stock Return\n",
    "# This column should calculate hourly return percentage of the closing price\n",
    "mercado_stock_trends_df[\"Hourly Stock Return\"] = mercado_stock_trends_df[\"close\"].pct_change() # Create a new Hourly Stock Return column based on % change"
   ]
  },
  {
   "cell_type": "code",
   "execution_count": null,
   "metadata": {
    "id": "6wwDn_CPvqLr",
    "tags": []
   },
   "outputs": [],
   "source": [
    "# View the first and last five rows of the mercado_stock_trends_df DataFrame\n",
    "display(\"Head\", mercado_stock_trends_df.head())\n",
    "display(\"Tail\", mercado_stock_trends_df.tail())"
   ]
  },
  {
   "cell_type": "markdown",
   "metadata": {
    "id": "fKP4rt7zvqLr"
   },
   "source": [
    "#### Step 4: Review the time series correlation, and then answer the following question: Does a predictable relationship exist between the lagged search traffic and the stock volatility or between the lagged search traffic and the stock price returns?"
   ]
  },
  {
   "cell_type": "code",
   "execution_count": null,
   "metadata": {
    "id": "5y5bMMPJvqLr",
    "tags": []
   },
   "outputs": [],
   "source": [
    "# Construct correlation table of Stock Volatility, Lagged Search Trends, and Hourly Stock Return\n",
    "\n",
    "display(\"Table 1 - Correlation table of Mercadolibre's Stock Volatility, Lagged Search Trends, and Hourly Stock Return\" ) # Show a title for the table\n",
    "display(mercado_stock_trends_df[[\"Stock Volatility\", \"Lagged Search Trends\", \"Hourly Stock Return\"]].corr()) # Create a correlation table between the values. Note .corr ignores NA/nulls"
   ]
  },
  {
   "cell_type": "markdown",
   "metadata": {
    "id": "iRHsgQtHvqLr"
   },
   "source": [
    "##### Answer the following question:\n"
   ]
  },
  {
   "cell_type": "markdown",
   "metadata": {
    "id": "vYvjnAPKvqLr"
   },
   "source": [
    "**Question:** Does a predictable relationship exist between the lagged search traffic and the stock volatility or between the lagged search traffic and the stock price returns?\n",
    "\n",
    "**Answer:** Table 1 presents a weak negative correlation between the lagged search traffic and the stock volatility. Whereas, there is a weak positive correlation between lagged search traffic and the stock price returns."
   ]
  },
  {
   "cell_type": "markdown",
   "metadata": {
    "id": "Ryr1yXv3vqLr"
   },
   "source": [
    "## Step 4: Create a Time Series Model with Prophet\n",
    "\n",
    "Now, you need to produce a time series model that analyzes and forecasts patterns in the hourly search data. To do so, complete the following steps:\n",
    "\n",
    "1. Set up the Google search data for a Prophet forecasting model.\n",
    "\n",
    "2. After estimating the model, plot the forecast. How's the near-term forecast for the popularity of MercadoLibre?\n",
    "\n",
    "3. Plot the individual time series components of the model to answer the following questions:\n",
    "\n",
    "    * What time of day exhibits the greatest popularity?\n",
    "\n",
    "    * Which day of the week gets the most search traffic?\n",
    "\n",
    "    * What's the lowest point for search traffic in the calendar year?\n"
   ]
  },
  {
   "cell_type": "markdown",
   "metadata": {
    "id": "AoBFDXh2vqLr"
   },
   "source": [
    "#### Step 1: Set up the Google search data for a Prophet forecasting model."
   ]
  },
  {
   "cell_type": "code",
   "execution_count": null,
   "metadata": {
    "id": "px58gbXnvqLr",
    "tags": []
   },
   "outputs": [],
   "source": [
    "# Using the df_mercado_trends DataFrame, reset the index so the date information is no longer the index\n",
    "mercado_prophet_df = df_mercado_trends.reset_index() # Create a new dataframe for use with Prophet, which needs the index reset\n",
    "\n",
    "# Label the columns ds and y so that the syntax is recognized by Prophet\n",
    "mercado_prophet_df.columns = [\"ds\", \"y\"]    # Change the column labels to Prophet requirements (data series and y)\n",
    "\n",
    "# Drop an NaN values from the prophet_df DataFrame\n",
    "mercado_prophet_df = mercado_prophet_df.dropna()  # Drop NAs\n",
    "\n",
    "# View the first and last five rows of the mercado_prophet_df DataFrame\n",
    "display(\"Head\",mercado_prophet_df.head())\n",
    "display(\"Tail\",mercado_prophet_df.tail())"
   ]
  },
  {
   "cell_type": "code",
   "execution_count": null,
   "metadata": {
    "id": "GIMwlMvJvqLr",
    "tags": []
   },
   "outputs": [],
   "source": [
    "# Call the Prophet function, store as an object\n",
    "model_mercado_trends = Prophet()   # Initialise Prophet model"
   ]
  },
  {
   "cell_type": "code",
   "execution_count": null,
   "metadata": {
    "id": "rpcN-CEyvqLr",
    "tags": []
   },
   "outputs": [],
   "source": [
    "# Fit the time-series model.\n",
    "model_mercado_trends.fit( mercado_prophet_df ) # Fit the df to the Prophet model"
   ]
  },
  {
   "cell_type": "code",
   "execution_count": null,
   "metadata": {
    "id": "_12tydosvqLr",
    "tags": []
   },
   "outputs": [],
   "source": [
    "# Create a future dataframe to hold predictions\n",
    "# Make the prediction go out as far as 2000 hours (approx 80 days)\n",
    "future_mercado_trends = model_mercado_trends.make_future_dataframe( periods=2000, freq=\"H\" )   # Make future predictions dataframe \n",
    "\n",
    "# View the last five rows of the future_mercado_trends DataFrame\n",
    "display(\"Tail\",future_mercado_trends.tail())"
   ]
  },
  {
   "cell_type": "code",
   "execution_count": null,
   "metadata": {
    "id": "ffu8uou0vqLr",
    "tags": []
   },
   "outputs": [],
   "source": [
    "# Make the predictions for the trend data using the future_mercado_trends DataFrame\n",
    "forecast_mercado_trends = model_mercado_trends.predict( future_mercado_trends ) # Use Prophet Predict on the dataframe\n",
    "\n",
    "# Display the first five rows of the forecast_mercado_trends DataFrame\n",
    "display(\"Head\", forecast_mercado_trends.head())"
   ]
  },
  {
   "cell_type": "markdown",
   "metadata": {
    "id": "GTKEQrv9vqLs"
   },
   "source": [
    "#### Step 2: After estimating the model, plot the forecast. How's the near-term forecast for the popularity of MercadoLibre?"
   ]
  },
  {
   "cell_type": "code",
   "execution_count": null,
   "metadata": {
    "id": "Ix0ZCjaivqLs",
    "tags": []
   },
   "outputs": [],
   "source": [
    "# Plot the Prophet predictions for the Mercado trends data\n",
    "\n",
    "fig8_label = \"Figure 8 - Prophet predictions for Mercadolibre trends data\"  # Set the plot's title\n",
    "\n",
    "# Plotting using matplot lib was difficult to interpret. Have left the code in commented incase it may be of value.\n",
    "# display(fig8_label)\n",
    "# fig8 = model_mercado_trends.plot( forecast_mercado_trends ) # Plot model\n",
    "\n",
    "# Implementation decicion: Preferred to use plot_plotly which allows zooming into desired areas of the plot for a more targetted view\n",
    "\n",
    "# import plot_plotly libraries\n",
    "from prophet.plot import plot_plotly, plot_components_plotly\n",
    "\n",
    "# Generate the plot with a styled title\n",
    "fig8 = plot_plotly( model_mercado_trends, forecast_mercado_trends, trend=True ).update_layout( title = dict( text = \"<b>\" + fig8_label + \"</b>\" ) ) # Generate the plot\n",
    "# Code snippet to set the title adapted from: https://plotly.com/python/figure-labels/   then discovered that the fonts could be styled but not made bold, which is\n",
    "# what I had intended for consistency with other plot titles. Further search revealed...\n",
    "# Code snippet to include html styling adapted from user Maximillian Peters on https://stackoverflow.com/a/46516017\n",
    "\n",
    "display(fig8) # Show the plot"
   ]
  },
  {
   "cell_type": "markdown",
   "metadata": {
    "id": "joL1I-ICvqLs"
   },
   "source": [
    "##### Answer the following question:"
   ]
  },
  {
   "cell_type": "markdown",
   "metadata": {
    "id": "8h7ZvBnTvqLs"
   },
   "source": [
    "**Question:**  How's the near-term forecast for the popularity of MercadoLibre?\n",
    "\n",
    "**Answer:** The near-term forecast depicted in Figure 8 suggests based on the trend line that the searches are likely to decline.\n"
   ]
  },
  {
   "cell_type": "markdown",
   "metadata": {
    "id": "0Qpv5ASmvqLs"
   },
   "source": [
    "#### Step 3: Plot the individual time series components of the model to answer the following questions:\n",
    "\n",
    "* What time of day exhibits the greatest popularity?\n",
    "\n",
    "* Which day of the week gets the most search traffic?\n",
    "\n",
    "* What's the lowest point for search traffic in the calendar year?\n"
   ]
  },
  {
   "cell_type": "code",
   "execution_count": null,
   "metadata": {
    "id": "yWc1cB_YvqLs",
    "tags": []
   },
   "outputs": [],
   "source": [
    "# Set the index in the forecast_mercado_trends DataFrame to the ds datetime column\n",
    "forecast_mercado_trends = forecast_mercado_trends.set_index( \"ds\" )  # Set the index on the dataseries (date/time)\n",
    "\n",
    "# View only the yhat,yhat_lower and yhat_upper columns from the DataFrame\n",
    "display(\"Head\", forecast_mercado_trends[[\"yhat\", \"yhat_lower\", \"yhat_upper\"]].head())"
   ]
  },
  {
   "cell_type": "markdown",
   "metadata": {
    "id": "g5KL0RNrvqLs"
   },
   "source": [
    "Solutions Note: `yhat` represents the most likely (average) forecast, whereas `yhat_lower` and `yhat_upper` represents the worst and best case prediction (based on what are known as 95% confidence intervals)."
   ]
  },
  {
   "cell_type": "code",
   "execution_count": null,
   "metadata": {
    "id": "NJfbh_xcvqLs",
    "tags": []
   },
   "outputs": [],
   "source": [
    "# Holoviews extension to render hvPlots in Colab\n",
    "hv.extension('bokeh')\n",
    "\n",
    "# From the forecast_mercado_trends DataFrame, use hvPlot to visualize\n",
    "#  the yhat, yhat_lower, and yhat_upper columns over the last 2000 hours\n",
    "\n",
    "fig9_label = \"Figure 9 - Mercadolibre Forecasts - Average (yhat) Worst Case (yhat_lower) and Best Case (yhat_upper) predictions\"  # Set the plot's title\n",
    "\n",
    "# Create the Stock plot\n",
    "fig9 = forecast_mercado_trends[[\"yhat\", \"yhat_lower\", \"yhat_upper\"]].iloc[-2000:, :].hvplot(    # Plot the graph restricting to the last 2000 hours\n",
    "    label=fig9_label,                                         # Set the title    \n",
    "    xlabel=\"Date\",                                            # Label the x axis\n",
    "    ylabel=\"Forecast Trends\",                                 # Label the y axis\n",
    "    grid=True                                                 # Show the grid\n",
    ")\n",
    "\n",
    "display(fig9) # Show the plot"
   ]
  },
  {
   "cell_type": "code",
   "execution_count": null,
   "metadata": {
    "id": "BxPKaqkqvqLs",
    "tags": []
   },
   "outputs": [],
   "source": [
    "# Reset the index in the forecast_mercado_trends DataFrame\n",
    "forecast_mercado_trends = forecast_mercado_trends.reset_index() # Reset the index\n",
    "\n",
    "# Use the plot_components function to visualize the forecast results\n",
    "# for the ????? forecast_canada ????? ****(assuming this was meant to be forecast_mercado_trends)**** DataFrame\n",
    "fig10_label = \"Figure 10 - Mercadolibre Forecasts - Trend, Weekly, Yearly, and Daily\"  # Set the plot's title\n",
    "\n",
    "display( fig10_label ) # Show a title....need to further investigate setting the title. \n",
    "display( figures_10_mercado_trends = model_mercado_trends.plot_components(forecast_mercado_trends) ) # show the plot"
   ]
  },
  {
   "cell_type": "markdown",
   "metadata": {
    "id": "gARCQlPWvqLs"
   },
   "source": [
    "##### Answer the following questions:"
   ]
  },
  {
   "cell_type": "markdown",
   "metadata": {
    "id": "3twQQzLzvqLs"
   },
   "source": [
    "**Question:** What time of day exhibits the greatest popularity?\n",
    "\n",
    "**Answer:** Midnight appears to be the most popular time for activity, based on Figure 10 Daily plot."
   ]
  },
  {
   "cell_type": "markdown",
   "metadata": {
    "id": "ApOKALEqvqLs"
   },
   "source": [
    "**Question:** Which day of week gets the most search traffic?\n",
    "   \n",
    "**Answer:** Tuesdays appear to be the day of week that get the most search traffic, based on Figure 10 Weekly plot."
   ]
  },
  {
   "cell_type": "markdown",
   "metadata": {
    "id": "otacnJLSvqLs"
   },
   "source": [
    "**Question:** What's the lowest point for search traffic in the calendar year?\n",
    "\n",
    "**Answer:** The lowest point for search traffic in the calendar year appears to be around mid October, based on Figure 10 Yearly plot. \n"
   ]
  },
  {
   "cell_type": "markdown",
   "metadata": {
    "id": "v0LsQjfFvqLs"
   },
   "source": [
    "## Step 5 (Optional): Forecast Revenue by Using Time Series Models\n",
    "\n",
    "A few weeks after your initial analysis, the finance group follows up to find out if you can help them solve a different problem. Your fame as a growth analyst in the company continues to grow!\n",
    "\n",
    "Specifically, the finance group wants a forecast of the total sales for the next quarter. This will dramatically increase their ability to plan budgets and to help guide expectations for the company investors.\n",
    "\n",
    "To do so, complete the following steps:\n",
    "\n",
    "1. Read in the daily historical sales (that is, revenue) figures, and then apply a Prophet model to the data. The daily sales figures are quoted in millions of USD dollars.\n",
    "\n",
    "2. Interpret the model output to identify any seasonal patterns in the company's revenue. For example, what are the peak revenue days? (Mondays? Fridays? Something else?)\n",
    "\n",
    "3. Produce a sales forecast for the finance group. Give them a number for the expected total sales in the next quarter. Include the best- and worst-case scenarios to help them make better plans.\n",
    "\n",
    "\n"
   ]
  },
  {
   "cell_type": "markdown",
   "metadata": {
    "id": "6gF41AaivqLs"
   },
   "source": [
    "#### Step 1: Read in the daily historical sales (that is, revenue) figures, and then apply a Prophet model to the data."
   ]
  },
  {
   "cell_type": "code",
   "execution_count": null,
   "metadata": {
    "id": "8oFOIRh4vqLs"
   },
   "outputs": [],
   "source": [
    "# Upload the \"mercado_daily_revenue.csv\" file into Colab, then store in a Pandas DataFrame\n",
    "# Set the \"date\" column as the DatetimeIndex\n",
    "# Sales are quoted in millions of US dollars\n",
    "\n",
    "mercado_sales_filename = \"mercado_daily_revenue.csv\"    # set the filename to load\n",
    "if using_colab:                                         # If in the Colab environment...\n",
    "    from google.colab import files                      #     import colab library\n",
    "    uploaded = files.upload()                           #     upload the file via colab\n",
    "\n",
    "    df_mercado_sales =  pd.read_csv( mercado_sales_filename ) # Read the specified file into the dataframe\n",
    "else:\n",
    "    mercado_sales_path = Path(\"./Resources/\" + mercado_sales_filename )    # Format the path as per OS's requirements\n",
    "    df_mercado_sales = pd.read_csv(mercado_sales_path) # Read the specified file into the dataframe\n",
    "\n",
    "df_mercado_sales = df_mercado_sales.set_index(pd.to_datetime(df_mercado_sales[\"date\"], infer_datetime_format=True) ) # Set the index to the date\n",
    "df_mercado_sales = df_mercado_sales.drop(columns=[\"date\"]) # Drop the original Date column.... (\"columns=labels\" is equivalent to \"labels, axis=1\").\n",
    "\n",
    "# Review the first and last five rows of the DataFrame\n",
    "display(\"Head\", df_mercado_sales.head()) # Show the first 5 rows\n",
    "display(\"Tail\", df_mercado_sales.tail()) # Show the last 5 rows"
   ]
  },
  {
   "cell_type": "code",
   "execution_count": null,
   "metadata": {
    "id": "tqckuSRVvqLs"
   },
   "outputs": [],
   "source": [
    "# Holoviews extension to render hvPlots in Colab\n",
    "hv.extension('bokeh')\n",
    "\n",
    "# Use hvPlot to visualize the daily sales figures\n",
    "fig11_label = \"Figure 11 - Mercadolibre Daily Sales Figures\"  # Set the plot's title\n",
    "\n",
    "# Create the Stock plot\n",
    "fig11 = df_mercado_sales.hvplot(                      # Plot the graph\n",
    "    label=fig11_label,                                # Set the title    \n",
    "    xlabel=\"Date\",                                    # Label the x axis\n",
    "    ylabel=\"Daily Sales ($US Million)\",               # Label the y axis\n",
    "    grid=True,                                        # Show the grid\n",
    "    xformatter=DatetimeTickFormatter(months=\"%b %Y\"), # Show date in Month Year format\n",
    "    yformatter=NumeralTickFormatter(format=\"0,0\")     # Add thousands separator to the y axis\n",
    ")\n",
    "\n",
    "display(fig11) # Show the plot"
   ]
  },
  {
   "cell_type": "code",
   "execution_count": null,
   "metadata": {
    "id": "mhq3GrYevqLt"
   },
   "outputs": [],
   "source": [
    "# Apply a Facebook Prophet model to the data.\n",
    "\n",
    "# Set up the dataframe in the neccessary format:\n",
    "# Reset the index so that date becomes a column in the DataFrame\n",
    "mercado_sales_prophet_df = df_mercado_sales.reset_index()   # Reset the index\n",
    "\n",
    "# Adjust the columns names to the Prophet syntax\n",
    "mercado_sales_prophet_df.columns = ['ds', 'y'] # Set the colunms as needed by Prophet\n",
    "\n",
    "# Visualize the DataFrame\n",
    "display(\"Head\", mercado_sales_prophet_df.head()) # Show the first 5 rows\n",
    "display(\"Tail\", mercado_sales_prophet_df.tail()) # Show the last 5 rows"
   ]
  },
  {
   "cell_type": "code",
   "execution_count": null,
   "metadata": {
    "id": "MrNzdUeCvqLt"
   },
   "outputs": [],
   "source": [
    "# Create the model\n",
    "mercado_sales_prophet_model = Prophet()  # Create the Prophet model for the sales data\n",
    "\n",
    "# Fit the model\n",
    "mercado_sales_prophet_model.fit( mercado_sales_prophet_df ) # Fit the Prophet model for the sales data"
   ]
  },
  {
   "cell_type": "code",
   "execution_count": null,
   "metadata": {
    "id": "v8bO_VdwvqLt"
   },
   "outputs": [],
   "source": [
    "# Predict sales for 90 days (1 quarter) out into the future.\n",
    "\n",
    "# Start by making a future dataframe\n",
    "mercado_sales_prophet_future = mercado_sales_prophet_model.make_future_dataframe( periods=90, freq=\"D\" )   # Make future predictions dataframe using 90 days as there appears to be no option for quarters \n",
    "\n",
    "# Display the last five rows of the future DataFrame\n",
    "display(\"Tail\", mercado_sales_prophet_future.tail())"
   ]
  },
  {
   "cell_type": "code",
   "execution_count": null,
   "metadata": {
    "id": "ZgTH6UFevqLt"
   },
   "outputs": [],
   "source": [
    "# Make predictions for the sales each day over the next quarter\n",
    "mercado_sales_prophet_forecast = mercado_sales_prophet_model.predict( mercado_sales_prophet_future ) # Make the predictions\n",
    "\n",
    "# Display the first 5 rows of the resulting DataFrame\n",
    "display(\"Head\", mercado_sales_prophet_forecast.head())"
   ]
  },
  {
   "cell_type": "markdown",
   "metadata": {
    "id": "JoPbAJS9vqLt",
    "tags": []
   },
   "source": [
    "#### Step 2: Interpret the model output to identify any seasonal patterns in the company's revenue. For example, what are the peak revenue days? (Mondays? Fridays? Something else?)"
   ]
  },
  {
   "cell_type": "code",
   "execution_count": null,
   "metadata": {
    "id": "ZPhCohrUvqLt"
   },
   "outputs": [],
   "source": [
    "# Use the plot_components function to analyze seasonal patterns in the company's revenue\n",
    "\n",
    "fig12_label = \"Figure 12 - Prophet predictions for Mercadolibre sales data\"  # Set the plot's title\n",
    "\n",
    "display( fig12_label ) # Show a title....need to further investigate setting the title. \n",
    "display( figures_12_mercado_sales = mercado_sales_prophet_model.plot_components( mercado_sales_prophet_forecast) ) # show the plot"
   ]
  },
  {
   "cell_type": "markdown",
   "metadata": {
    "id": "sFQjYompvqLt"
   },
   "source": [
    "##### Answer the following question:"
   ]
  },
  {
   "cell_type": "markdown",
   "metadata": {
    "id": "jpgB7nmTvqLt"
   },
   "source": [
    "**Question:** For example, what are the peak revenue days? (Mondays? Fridays? Something else?)\n",
    "\n",
    "**Answer:** Figure 12 Weekly view appears to suggest Mondays to Wednesdays are the most popular days of the week."
   ]
  },
  {
   "cell_type": "markdown",
   "metadata": {
    "id": "yuqPUKqwvqLt"
   },
   "source": [
    "#### Step 3: Produce a sales forecast for the finance group. Give them a number for the expected total sales in the next quarter. Include the best- and worst-case scenarios to help them make better plans."
   ]
  },
  {
   "cell_type": "code",
   "execution_count": null,
   "metadata": {
    "id": "YNc6LuLWvqLt"
   },
   "outputs": [],
   "source": [
    "# Plot the predictions for the Mercado sales\n",
    "fig13_label = \"Figure 13 - Prophet predictions for Mercadolibre sales data\"  # Set the plot's title\n",
    "fig13 = plot_plotly( mercado_sales_prophet_model, mercado_sales_prophet_forecast, trend=True ).update_layout( title = dict( text = \"<b>\" + fig13_label + \"</b>\" ) ) # Generate the plot\n",
    "display(fig13) # Show the plot"
   ]
  },
  {
   "cell_type": "code",
   "execution_count": null,
   "metadata": {
    "id": "-yJTS7UOvqLt"
   },
   "outputs": [],
   "source": [
    "# For the mercado_sales_prophet_forecast DataFrame, set the ds column as the DataFrame Index\n",
    "mercado_sales_prophet_forecast = mercado_sales_prophet_forecast.set_index( \"ds\" ) # Set the index to the ds (date/time) column\n",
    "\n",
    "# Display the first and last five rows of the DataFrame\n",
    "display(\"Head\", mercado_sales_prophet_forecast.head()) # Show the first 5 rows\n",
    "display(\"Tail\", mercado_sales_prophet_forecast.tail()) # Show the last 5 rows"
   ]
  },
  {
   "cell_type": "code",
   "execution_count": null,
   "metadata": {
    "id": "bfFPskuBvqLt"
   },
   "outputs": [],
   "source": [
    "# Produce a sales forecast for the finance division\n",
    "# giving them a number for expected total sales next quarter.\n",
    "# Provide best case (yhat_upper), worst case (yhat_lower), and most likely (yhat) scenarios.\n",
    "\n",
    "# Create a forecast_quarter Dataframe for the period 2020-07-01 to 2020-09-30\n",
    "# The DataFrame should include the columns yhat_upper, yhat_lower, and yhat\n",
    "mercado_sales_forecast_quarter = mercado_sales_prophet_forecast.loc[\"2020-07-01\":\"2020-09-30\"][[\"yhat_upper\", \"yhat_lower\", \"yhat\" ]]   # Slice the df in the defined period, and use best, worst and most likely columns\n",
    "\n",
    "# Update the column names for the forecast_quarter DataFrame\n",
    "# to match what the finance division is looking for\n",
    "\n",
    "sale_forecast_friendly_column_names = { \"yhat_upper\" : \"Best Case\", \"yhat_lower\" : \"Worst Case\", \"yhat\" : \"Probable Case\" }   # Create a dict to rename the columns\n",
    "\n",
    "mercado_sales_forecast_quarter = mercado_sales_forecast_quarter.rename( columns = sale_forecast_friendly_column_names ) # Rename the columns to friendlier names\n",
    "\n",
    "# Review the last five rows of the DataFrame\n",
    "display(\"Tail\", mercado_sales_forecast_quarter.tail()) # Show the last 5 rows"
   ]
  },
  {
   "cell_type": "code",
   "execution_count": null,
   "metadata": {
    "id": "E6cJTVMXvqLt"
   },
   "outputs": [],
   "source": [
    "# Display the summed values for all the rows in the forecast_quarter DataFrame\n",
    "\n",
    "mercado_sales_forecast_quarter.sum() # present the title and the summary data"
   ]
  },
  {
   "cell_type": "markdown",
   "metadata": {
    "id": "6oneroCFvqLt"
   },
   "source": [
    "### Based on the forecast information generated above, produce a sales forecast for the finance division, giving them a number for expected total sales next quarter. Include best and worst case scenarios, to better help the finance team plan.\n",
    "\n",
    "**Answer:** Based on Prophet forecasts using past sales data to predict future outcomes, the total sales predictions for the next quarter are:   \n",
    "```\n",
    "  Expected total sales:  (USD)   969.63M \n",
    "  Best case total sales: (USD) 1,052.14M \n",
    "  Worst case scenario:   (USD)   887.57M\n",
    "```"
   ]
  }
 ],
 "metadata": {
  "colab": {
   "provenance": []
  },
  "kernelspec": {
   "display_name": "Python 3 (ipykernel)",
   "language": "python",
   "name": "python3"
  },
  "language_info": {
   "codemirror_mode": {
    "name": "ipython",
    "version": 3
   },
   "file_extension": ".py",
   "mimetype": "text/x-python",
   "name": "python",
   "nbconvert_exporter": "python",
   "pygments_lexer": "ipython3",
   "version": "3.10.12"
  }
 },
 "nbformat": 4,
 "nbformat_minor": 4
}
